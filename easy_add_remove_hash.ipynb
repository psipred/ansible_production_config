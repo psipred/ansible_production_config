{
 "cells": [
  {
   "cell_type": "markdown",
   "id": "20fd8dc1",
   "metadata": {},
   "source": [
    "The Notebook allows for the easy addition or removal of hashes\n",
    "to the start of lines in a file.\n",
    "\n",
    "To use run the first cell and then instantiate File with the file path to the file to be changed.\n",
    "Make sure that the file is saved first.\n",
    "\n",
    "    - add() adds hashes. \n",
    "    It brings up an input box: populate with the start and stop line numbers inclusive - if only one line number is added hashes will be added to the end of the file.\n",
    "    \n",
    "    - rem() removes hashes.\n",
    "    It brings up an input box: populate with the start and stop line numbers inclusive - if only one line number is added hashes will be added to the end of the file.\n",
    "\n",
    "A number of examples are given below - role asks for the role to be changed and navigates to the right main.yml file."
   ]
  },
  {
   "cell_type": "code",
   "execution_count": 1,
   "id": "982be533",
   "metadata": {},
   "outputs": [],
   "source": [
    "import os\n",
    "\n",
    "class File:\n",
    "    def __init__(self, path):\n",
    "        with open(path) as f:\n",
    "            self.lines = f.readlines()\n",
    "        self.path = path\n",
    "        \n",
    "    def save(self):\n",
    "        with open(self.path,'w') as f:\n",
    "            f.write(''.join(self.lines))\n",
    "        with open(self.path) as f:\n",
    "            self.lines = f.readlines()\n",
    "            \n",
    "    def rem(self):\n",
    "        rnge = input('values to start and stop inclusive ')\n",
    "        a=rnge.split(' ')\n",
    "        if len(a)==2:\n",
    "            n,m=int(a[0]),int(a[1])\n",
    "        else:\n",
    "            n,m = int(a[0]),len(self.lines)\n",
    "        for i in range(n-1,m):\n",
    "            if '##' not in self.lines[i]:\n",
    "                self.lines[i] = self.lines[i].replace('#','')\n",
    "        self.save()\n",
    "        \n",
    "    def add(self):\n",
    "        rnge = input('values to start and stop inclusive ')\n",
    "        a=rnge.split(' ')\n",
    "        if len(a)==2:\n",
    "            n,m=int(a[0]),int(a[1])\n",
    "        else:\n",
    "            n,m = int(a[0]),len(self.lines)\n",
    "        for i in range(n-1,m):\n",
    "            if self.lines[i][0]!='#':\n",
    "                self.lines[i] = '#'+self.lines[i]\n",
    "        self.save()"
   ]
  },
  {
   "cell_type": "code",
   "execution_count": 35,
   "id": "22376f0a",
   "metadata": {},
   "outputs": [],
   "source": [
    "deploy = File(\"deploy_production.yml\")\n",
    "production = File(\"production\")\n",
    "secrets = File(\"secrets/production_secrets.yaml\")"
   ]
  },
  {
   "cell_type": "code",
   "execution_count": 36,
   "id": "79a8821d",
   "metadata": {},
   "outputs": [
    {
     "name": "stdout",
     "output_type": "stream",
     "text": [
      "values to start and stop inclusive 105 115\n"
     ]
    }
   ],
   "source": [
    "deploy.rem()"
   ]
  },
  {
   "cell_type": "code",
   "execution_count": null,
   "id": "113753f8",
   "metadata": {},
   "outputs": [],
   "source": []
  },
  {
   "cell_type": "code",
   "execution_count": 34,
   "id": "f9e4a012",
   "metadata": {},
   "outputs": [
    {
     "name": "stdout",
     "output_type": "stream",
     "text": [
      "values to start and stop inclusive 86 101\n"
     ]
    }
   ],
   "source": [
    "deploy.add()"
   ]
  },
  {
   "cell_type": "code",
   "execution_count": 33,
   "id": "3d8e1abe",
   "metadata": {},
   "outputs": [
    {
     "name": "stdout",
     "output_type": "stream",
     "text": [
      "values to start and stop inclusive 24\n"
     ]
    }
   ],
   "source": [
    "restart.add()"
   ]
  },
  {
   "cell_type": "code",
   "execution_count": 21,
   "id": "bd2f24ea",
   "metadata": {},
   "outputs": [
    {
     "name": "stdout",
     "output_type": "stream",
     "text": [
      "values to start and stop inclusive 4 43\n"
     ]
    }
   ],
   "source": [
    "restart.rem()"
   ]
  },
  {
   "cell_type": "code",
   "execution_count": null,
   "id": "8f853fa7",
   "metadata": {},
   "outputs": [],
   "source": []
  },
  {
   "cell_type": "code",
   "execution_count": 44,
   "id": "69caa956",
   "metadata": {},
   "outputs": [
    {
     "name": "stdout",
     "output_type": "stream",
     "text": [
      "role \n",
      "blastworkers\n"
     ]
    }
   ],
   "source": [
    "role = File(\"roles/{}/tasks/main.yml\".format(input('role \\n')))"
   ]
  },
  {
   "cell_type": "code",
   "execution_count": 45,
   "id": "c7fffd2b",
   "metadata": {},
   "outputs": [
    {
     "name": "stdout",
     "output_type": "stream",
     "text": [
      "values to start and stop inclusive 2 84\n"
     ]
    }
   ],
   "source": [
    "role.add()"
   ]
  },
  {
   "cell_type": "code",
   "execution_count": 19,
   "id": "3ee96505",
   "metadata": {},
   "outputs": [
    {
     "name": "stdout",
     "output_type": "stream",
     "text": [
      "values to start and stop inclusive 1 1\n"
     ]
    }
   ],
   "source": [
    "role.rem()"
   ]
  },
  {
   "cell_type": "code",
   "execution_count": 41,
   "id": "f0d00df0",
   "metadata": {},
   "outputs": [
    {
     "name": "stdout",
     "output_type": "stream",
     "text": [
      "values to start and stop inclusive 61\n"
     ]
    }
   ],
   "source": [
    "deploy.add()"
   ]
  },
  {
   "cell_type": "code",
   "execution_count": 43,
   "id": "1ef04669",
   "metadata": {},
   "outputs": [
    {
     "name": "stdout",
     "output_type": "stream",
     "text": [
      "values to start and stop inclusive 155 158\n"
     ]
    },
    {
     "ename": "IndexError",
     "evalue": "list index out of range",
     "output_type": "error",
     "traceback": [
      "\u001b[0;31m---------------------------------------------------------------------------\u001b[0m",
      "\u001b[0;31mIndexError\u001b[0m                                Traceback (most recent call last)",
      "\u001b[0;32m<ipython-input-43-7fefa7b64333>\u001b[0m in \u001b[0;36m<module>\u001b[0;34m\u001b[0m\n\u001b[0;32m----> 1\u001b[0;31m \u001b[0mdeploy\u001b[0m\u001b[0;34m.\u001b[0m\u001b[0mrem\u001b[0m\u001b[0;34m(\u001b[0m\u001b[0;34m)\u001b[0m\u001b[0;34m\u001b[0m\u001b[0;34m\u001b[0m\u001b[0m\n\u001b[0m",
      "\u001b[0;32m<ipython-input-1-80f8aca8f318>\u001b[0m in \u001b[0;36mrem\u001b[0;34m(self)\u001b[0m\n\u001b[1;32m     21\u001b[0m             \u001b[0mn\u001b[0m\u001b[0;34m,\u001b[0m\u001b[0mm\u001b[0m \u001b[0;34m=\u001b[0m \u001b[0mint\u001b[0m\u001b[0;34m(\u001b[0m\u001b[0ma\u001b[0m\u001b[0;34m[\u001b[0m\u001b[0;36m0\u001b[0m\u001b[0;34m]\u001b[0m\u001b[0;34m)\u001b[0m\u001b[0;34m,\u001b[0m\u001b[0mlen\u001b[0m\u001b[0;34m(\u001b[0m\u001b[0mself\u001b[0m\u001b[0;34m.\u001b[0m\u001b[0mlines\u001b[0m\u001b[0;34m)\u001b[0m\u001b[0;34m\u001b[0m\u001b[0;34m\u001b[0m\u001b[0m\n\u001b[1;32m     22\u001b[0m         \u001b[0;32mfor\u001b[0m \u001b[0mi\u001b[0m \u001b[0;32min\u001b[0m \u001b[0mrange\u001b[0m\u001b[0;34m(\u001b[0m\u001b[0mn\u001b[0m\u001b[0;34m-\u001b[0m\u001b[0;36m1\u001b[0m\u001b[0;34m,\u001b[0m\u001b[0mm\u001b[0m\u001b[0;34m)\u001b[0m\u001b[0;34m:\u001b[0m\u001b[0;34m\u001b[0m\u001b[0;34m\u001b[0m\u001b[0m\n\u001b[0;32m---> 23\u001b[0;31m             \u001b[0;32mif\u001b[0m \u001b[0;34m'##'\u001b[0m \u001b[0;32mnot\u001b[0m \u001b[0;32min\u001b[0m \u001b[0mself\u001b[0m\u001b[0;34m.\u001b[0m\u001b[0mlines\u001b[0m\u001b[0;34m[\u001b[0m\u001b[0mi\u001b[0m\u001b[0;34m]\u001b[0m\u001b[0;34m:\u001b[0m\u001b[0;34m\u001b[0m\u001b[0;34m\u001b[0m\u001b[0m\n\u001b[0m\u001b[1;32m     24\u001b[0m                 \u001b[0mself\u001b[0m\u001b[0;34m.\u001b[0m\u001b[0mlines\u001b[0m\u001b[0;34m[\u001b[0m\u001b[0mi\u001b[0m\u001b[0;34m]\u001b[0m \u001b[0;34m=\u001b[0m \u001b[0mself\u001b[0m\u001b[0;34m.\u001b[0m\u001b[0mlines\u001b[0m\u001b[0;34m[\u001b[0m\u001b[0mi\u001b[0m\u001b[0;34m]\u001b[0m\u001b[0;34m.\u001b[0m\u001b[0mreplace\u001b[0m\u001b[0;34m(\u001b[0m\u001b[0;34m'#'\u001b[0m\u001b[0;34m,\u001b[0m\u001b[0;34m''\u001b[0m\u001b[0;34m)\u001b[0m\u001b[0;34m\u001b[0m\u001b[0;34m\u001b[0m\u001b[0m\n\u001b[1;32m     25\u001b[0m         \u001b[0mself\u001b[0m\u001b[0;34m.\u001b[0m\u001b[0msave\u001b[0m\u001b[0;34m(\u001b[0m\u001b[0;34m)\u001b[0m\u001b[0;34m\u001b[0m\u001b[0;34m\u001b[0m\u001b[0m\n",
      "\u001b[0;31mIndexError\u001b[0m: list index out of range"
     ]
    }
   ],
   "source": [
    "deploy.rem()"
   ]
  },
  {
   "cell_type": "code",
   "execution_count": null,
   "id": "53b33578",
   "metadata": {},
   "outputs": [],
   "source": []
  },
  {
   "cell_type": "code",
   "execution_count": null,
   "id": "3576aa55",
   "metadata": {},
   "outputs": [],
   "source": []
  },
  {
   "cell_type": "code",
   "execution_count": null,
   "id": "157963b0",
   "metadata": {},
   "outputs": [],
   "source": [
    "secrets.add()"
   ]
  },
  {
   "cell_type": "code",
   "execution_count": null,
   "id": "ccae1f3c",
   "metadata": {},
   "outputs": [],
   "source": []
  },
  {
   "cell_type": "code",
   "execution_count": null,
   "id": "7f6aaa52",
   "metadata": {},
   "outputs": [],
   "source": [
    "restart = File('restart_aa.yml')"
   ]
  },
  {
   "cell_type": "code",
   "execution_count": null,
   "id": "41540909",
   "metadata": {},
   "outputs": [],
   "source": [
    "restart.add()"
   ]
  },
  {
   "cell_type": "code",
   "execution_count": null,
   "id": "69c45ed9",
   "metadata": {},
   "outputs": [],
   "source": []
  },
  {
   "cell_type": "code",
   "execution_count": 15,
   "id": "ea9e22b7",
   "metadata": {},
   "outputs": [
    {
     "name": "stdout",
     "output_type": "stream",
     "text": [
      "values to start and stop inclusive 27 27\n"
     ]
    }
   ],
   "source": [
    "staging.add()"
   ]
  },
  {
   "cell_type": "code",
   "execution_count": 28,
   "id": "8d11bf1d",
   "metadata": {},
   "outputs": [],
   "source": [
    "text = \"\"\"fatal: [128.16.14.77]: FAILED! => {\"changed\": false, \"cmd\": \"./manage.py migrate --noinput --settings=psipred_website.settings.staging\", \"msg\": \"\\n:stderr: Traceback (most recent call last):\\n  File \\\"./manage.py\\\", line 10, in <module>\\n    execute_from_command_line(sys.argv)\\n  File \\\"/home/webserver/webserver_env/lib/python3.6/site-packages/django/core/management/__init__.py\\\", line 419, in execute_from_command_line\\n    utility.execute()\\n  File \\\"/home/webserver/webserver_env/lib/python3.6/site-packages/django/core/management/__init__.py\\\", line 413, in execute\\n    self.fetch_command(subcommand).run_from_argv(self.argv)\\n  File \\\"/home/webserver/webserver_env/lib/python3.6/site-packages/django/core/management/base.py\\\", line 354, in run_from_argv\\n    self.execute(*args, **cmd_options)\\n  File \\\"/home/webserver/webserver_env/lib/python3.6/site-packages/django/core/management/base.py\\\", line 398, in execute\\n    output = self.handle(*args, **options)\\n  File \\\"/home/webserver/webserver_env/lib/python3.6/site-packages/django/core/management/base.py\\\", line 89, in wrapped\\n    res = handle_func(*args, **kwargs)\\n  File \\\"/home/webserver/webserver_env/lib/python3.6/site-packages/django/core/management/commands/migrate.py\\\", line 92, in handle\\n    executor = MigrationExecutor(connection, self.migration_progress_callback)\\n  File \\\"/home/webserver/webserver_env/lib/python3.6/site-packages/django/db/migrations/executor.py\\\", line 18, in __init__\\n    self.loader = MigrationLoader(self.connection)\\n  File \\\"/home/webserver/webserver_env/lib/python3.6/site-packages/django/db/migrations/loader.py\\\", line 53, in __init__\\n    self.build_graph()\\n  File \\\"/home/webserver/webserver_env/lib/python3.6/site-packages/django/db/migrations/loader.py\\\", line 259, in build_graph\\n    self.graph.validate_consistency()\\n  File \\\"/home/webserver/webserver_env/lib/python3.6/site-packages/django/db/migrations/graph.py\\\", line 195, in validate_consistency\\n    [n.raise_error() for n in self.node_map.values() if isinstance(n, DummyNode)]\\n  File \\\"/home/webserver/webserver_env/lib/python3.6/site-packages/django/db/migrations/graph.py\\\", line 195, in <listcomp>\\n    [n.raise_error() for n in self.node_map.values() if isinstance(n, DummyNode)]\\n  File \\\"/home/webserver/webserver_env/lib/python3.6/site-packages/django/db/migrations/graph.py\\\", line 58, in raise_error\\n    raise NodeNotFoundError(self.error_message, self.key, origin=self.origin)\\ndjango.db.migrations.exceptions.NodeNotFoundError: Migration interface.0009_servermessage dependencies reference nonexistent parent node ('interface', '0008_auto_20210729_1216')\\n\", \"path\": \"/home/webserver/webserver_env/bin:/sbin:/bin:/usr/sbin:/usr/bin\", \"syspath\": [\"/tmp/ansible_django_manage_payload_epGgqm/ansible_django_manage_payload.zip\", \"/usr/lib64/python27.zip\", \"/usr/lib64/python2.7\", \"/usr/lib64/python2.7/plat-linux2\", \"/usr/lib64/python2.7/lib-tk\", \"/usr/lib64/python2.7/lib-old\", \"/usr/lib64/python2.7/lib-dynload\", \"/usr/lib64/python2.7/site-packages\", \"/usr/lib64/python2.7/site-packages/gtk-2.0\", \"/usr/lib/python2.7/site-packages\"]}\n",
    "\n",
    "\"\"\""
   ]
  },
  {
   "cell_type": "code",
   "execution_count": 29,
   "id": "e8c61c78",
   "metadata": {},
   "outputs": [
    {
     "name": "stdout",
     "output_type": "stream",
     "text": [
      "fatal: [128.16.14.77]: FAILED! => {\"changed\": false, \"cmd\": \"./manage.py migrate --noinput --settings=psipred_website.settings.staging\", \"msg\": \"\n",
      ":stderr: Traceback (most recent call last):\n",
      "  File \"./manage.py\", line 10, in <module>\n",
      "    execute_from_command_line(sys.argv)\n",
      "  File \"/home/webserver/webserver_env/lib/python3.6/site-packages/django/core/management/__init__.py\", line 419, in execute_from_command_line\n",
      "    utility.execute()\n",
      "  File \"/home/webserver/webserver_env/lib/python3.6/site-packages/django/core/management/__init__.py\", line 413, in execute\n",
      "    self.fetch_command(subcommand).run_from_argv(self.argv)\n",
      "  File \"/home/webserver/webserver_env/lib/python3.6/site-packages/django/core/management/base.py\", line 354, in run_from_argv\n",
      "    self.execute(*args, **cmd_options)\n",
      "  File \"/home/webserver/webserver_env/lib/python3.6/site-packages/django/core/management/base.py\", line 398, in execute\n",
      "    output = self.handle(*args, **options)\n",
      "  File \"/home/webserver/webserver_env/lib/python3.6/site-packages/django/core/management/base.py\", line 89, in wrapped\n",
      "    res = handle_func(*args, **kwargs)\n",
      "  File \"/home/webserver/webserver_env/lib/python3.6/site-packages/django/core/management/commands/migrate.py\", line 92, in handle\n",
      "    executor = MigrationExecutor(connection, self.migration_progress_callback)\n",
      "  File \"/home/webserver/webserver_env/lib/python3.6/site-packages/django/db/migrations/executor.py\", line 18, in __init__\n",
      "    self.loader = MigrationLoader(self.connection)\n",
      "  File \"/home/webserver/webserver_env/lib/python3.6/site-packages/django/db/migrations/loader.py\", line 53, in __init__\n",
      "    self.build_graph()\n",
      "  File \"/home/webserver/webserver_env/lib/python3.6/site-packages/django/db/migrations/loader.py\", line 259, in build_graph\n",
      "    self.graph.validate_consistency()\n",
      "  File \"/home/webserver/webserver_env/lib/python3.6/site-packages/django/db/migrations/graph.py\", line 195, in validate_consistency\n",
      "    [n.raise_error() for n in self.node_map.values() if isinstance(n, DummyNode)]\n",
      "  File \"/home/webserver/webserver_env/lib/python3.6/site-packages/django/db/migrations/graph.py\", line 195, in <listcomp>\n",
      "    [n.raise_error() for n in self.node_map.values() if isinstance(n, DummyNode)]\n",
      "  File \"/home/webserver/webserver_env/lib/python3.6/site-packages/django/db/migrations/graph.py\", line 58, in raise_error\n",
      "    raise NodeNotFoundError(self.error_message, self.key, origin=self.origin)\n",
      "django.db.migrations.exceptions.NodeNotFoundError: Migration interface.0009_servermessage dependencies reference nonexistent parent node ('interface', '0008_auto_20210729_1216')\n",
      "\", \"path\": \"/home/webserver/webserver_env/bin:/sbin:/bin:/usr/sbin:/usr/bin\", \"syspath\": [\"/tmp/ansible_django_manage_payload_epGgqm/ansible_django_manage_payload.zip\", \"/usr/lib64/python27.zip\", \"/usr/lib64/python2.7\", \"/usr/lib64/python2.7/plat-linux2\", \"/usr/lib64/python2.7/lib-tk\", \"/usr/lib64/python2.7/lib-old\", \"/usr/lib64/python2.7/lib-dynload\", \"/usr/lib64/python2.7/site-packages\", \"/usr/lib64/python2.7/site-packages/gtk-2.0\", \"/usr/lib/python2.7/site-packages\"]}\n",
      "\n",
      "\n"
     ]
    }
   ],
   "source": [
    "print(text)"
   ]
  },
  {
   "cell_type": "code",
   "execution_count": null,
   "id": "2cbec724",
   "metadata": {},
   "outputs": [],
   "source": []
  }
 ],
 "metadata": {
  "kernelspec": {
   "display_name": "Python 3",
   "language": "python",
   "name": "python3"
  },
  "language_info": {
   "codemirror_mode": {
    "name": "ipython",
    "version": 3
   },
   "file_extension": ".py",
   "mimetype": "text/x-python",
   "name": "python",
   "nbconvert_exporter": "python",
   "pygments_lexer": "ipython3",
   "version": "3.6.8"
  }
 },
 "nbformat": 4,
 "nbformat_minor": 5
}
